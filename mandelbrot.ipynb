{
 "cells": [
  {
   "cell_type": "code",
   "execution_count": 1,
   "id": "sound-hybrid",
   "metadata": {},
   "outputs": [],
   "source": [
    "from PIL import Image, ImageDraw"
   ]
  },
  {
   "cell_type": "code",
   "execution_count": 2,
   "id": "rising-portland",
   "metadata": {},
   "outputs": [],
   "source": [
    "def isMandelbrotPoint(c):\n",
    "    \n",
    "    z = 0\n",
    "    n = 1\n",
    "    \n",
    "    while abs(z) < 2 and 200 > n:\n",
    "        z = z*z + c\n",
    "        n += 1 \n",
    "    \n",
    "    return n"
   ]
  },
  {
   "cell_type": "code",
   "execution_count": 3,
   "id": "executive-bumper",
   "metadata": {},
   "outputs": [],
   "source": [
    "def regular_square_grid(bounds, function, size_img): \n",
    "    \n",
    "    x_min, x_max = bounds[0]\n",
    "    y_min, y_max = bounds[1]\n",
    "    \n",
    "    width = size_img[0]\n",
    "    height = size_img[1]\n",
    "\n",
    "    im = Image.new('RGB', (width, height), (0, 0, 0))\n",
    "    draw = ImageDraw.Draw(im)\n",
    "    \n",
    "    dx = (x_max - x_min)/width\n",
    "    dy = (y_max - y_min)/height\n",
    "    \n",
    "    for i in range(0,width):\n",
    "        for j in range(0,height):\n",
    "            \n",
    "            x = x_min + dx*i\n",
    "            y = y_min + dy*j\n",
    "            \n",
    "            c = complex(x,y)\n",
    "            m = function(c)\n",
    "            \n",
    "            r = 255 - int(m * 255 / 200)\n",
    "            g = 255 - int(m *255 / 200)\n",
    "            b = 255 - int(m * 255 / 200)\n",
    "            \n",
    "            draw.point([i, j], (r, g, b))\n",
    "    \n",
    "    im.save('m3.png', 'PNG')"
   ]
  },
  {
   "cell_type": "code",
   "execution_count": 4,
   "id": "rapid-wheat",
   "metadata": {},
   "outputs": [],
   "source": [
    "mandelbrot_set = regular_square_grid([(-2.5, 1.5),(-1.2, 1.2)], isMandelbrotPoint, [1366, 768])"
   ]
  },
  {
   "cell_type": "code",
   "execution_count": null,
   "id": "quantitative-ambassador",
   "metadata": {},
   "outputs": [],
   "source": []
  }
 ],
 "metadata": {
  "kernelspec": {
   "display_name": "Python 3 (ipykernel)",
   "language": "python",
   "name": "python3"
  },
  "language_info": {
   "codemirror_mode": {
    "name": "ipython",
    "version": 3
   },
   "file_extension": ".py",
   "mimetype": "text/x-python",
   "name": "python",
   "nbconvert_exporter": "python",
   "pygments_lexer": "ipython3",
   "version": "3.9.12"
  }
 },
 "nbformat": 4,
 "nbformat_minor": 5
}
